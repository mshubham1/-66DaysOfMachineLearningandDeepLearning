{
  "nbformat": 4,
  "nbformat_minor": 0,
  "metadata": {
    "colab": {
      "name": "Untitled12.ipynb",
      "provenance": [],
      "collapsed_sections": []
    },
    "kernelspec": {
      "name": "python3",
      "display_name": "Python 3"
    },
    "language_info": {
      "name": "python"
    }
  },
  "cells": [
    {
      "cell_type": "markdown",
      "metadata": {
        "id": "sBeXZ18g92d9"
      },
      "source": [
        "**BASICS OF PYTHON**\n",
        "* Various Datatypes in Python\n",
        "* Variable\n",
        "* Variables Assigment\n",
        "* Print Formatting\n",
        "* Various DataTy\n",
        "-Data types are of two types- mutable(list,set,dictionaries) and immutable(tuple)."
      ]
    },
    {
      "cell_type": "code",
      "metadata": {
        "colab": {
          "base_uri": "https://localhost:8080/"
        },
        "id": "-wjVvF8Y-euc",
        "outputId": "63f6b7a8-160d-4a53-916a-282ee23dffdc"
      },
      "source": [
        "## Variables\n",
        "print(1+1)\n",
        "print(2*3)\n",
        "print(4-1)\n",
        "print(4/2)"
      ],
      "execution_count": 1,
      "outputs": [
        {
          "output_type": "stream",
          "name": "stdout",
          "text": [
            "2\n",
            "6\n",
            "3\n",
            "2.0\n"
          ]
        }
      ]
    },
    {
      "cell_type": "code",
      "metadata": {
        "colab": {
          "base_uri": "https://localhost:8080/"
        },
        "id": "_tMviUyo-quy",
        "outputId": "30b62356-e4d3-40e7-b09e-8e1d3b669cb3"
      },
      "source": [
        "print(10%2)\n",
        "print(10**2)"
      ],
      "execution_count": 2,
      "outputs": [
        {
          "output_type": "stream",
          "name": "stdout",
          "text": [
            "0\n",
            "100\n"
          ]
        }
      ]
    },
    {
      "cell_type": "code",
      "metadata": {
        "colab": {
          "base_uri": "https://localhost:8080/"
        },
        "id": "DByGrrqs_Gmg",
        "outputId": "255f5cf6-ea23-4539-b3fe-c63a1f54b348"
      },
      "source": [
        "a=10        \n",
        "b=10\n",
        "a is b"
      ],
      "execution_count": 3,
      "outputs": [
        {
          "output_type": "execute_result",
          "data": {
            "text/plain": [
              "True"
            ]
          },
          "metadata": {},
          "execution_count": 3
        }
      ]
    },
    {
      "cell_type": "code",
      "metadata": {
        "colab": {
          "base_uri": "https://localhost:8080/"
        },
        "id": "HS18vYvU_Pls",
        "outputId": "8267af02-3532-4dc4-f7f5-fb31a058aa72"
      },
      "source": [
        "a=\"Shubham Mourya\"\n",
        "print(a, type(a))\n",
        "a=123\n",
        "print(a, type(a))"
      ],
      "execution_count": 4,
      "outputs": [
        {
          "output_type": "stream",
          "name": "stdout",
          "text": [
            "Shubham Mourya <class 'str'>\n",
            "123 <class 'int'>\n"
          ]
        }
      ]
    },
    {
      "cell_type": "code",
      "metadata": {
        "colab": {
          "base_uri": "https://localhost:8080/"
        },
        "id": "wSfyJgrV_lIy",
        "outputId": "f5d25c39-55ac-4963-d0b7-73881893f342"
      },
      "source": [
        "st='Shubham Mourya'\n",
        "print(st)"
      ],
      "execution_count": 5,
      "outputs": [
        {
          "output_type": "stream",
          "name": "stdout",
          "text": [
            "Shubham Mourya\n"
          ]
        }
      ]
    },
    {
      "cell_type": "code",
      "metadata": {
        "colab": {
          "base_uri": "https://localhost:8080/"
        },
        "id": "0HOGBTdDAFQJ",
        "outputId": "8c67500e-bd1b-49ef-e018-955f058803d7"
      },
      "source": [
        "\n",
        "print(st.isalnum()) #check if all char are numbers and alphabets\n",
        "print(st.isalpha()) #check if all char in the string are alphabetic\n",
        "print(st.isdigit()) #test if string has only digits\n",
        "print(st.istitle()) #test if string contains title words\n",
        "print(st.isupper()) #test if string contains upper case\n",
        "print(st.islower()) #test if string contains lower case\n",
        "print(st.isspace()) #test if string contains spaces\n",
        "print(st.endswith('3')) #test if string ends with a 3\n",
        "print(st.startswith('A')) #test if string starts with A"
      ],
      "execution_count": 7,
      "outputs": [
        {
          "output_type": "stream",
          "name": "stdout",
          "text": [
            "False\n",
            "False\n",
            "False\n",
            "True\n",
            "False\n",
            "False\n",
            "False\n",
            "False\n",
            "False\n"
          ]
        }
      ]
    },
    {
      "cell_type": "markdown",
      "metadata": {
        "id": "RfKaigOyAY-C"
      },
      "source": [
        "# **LIST**"
      ]
    },
    {
      "cell_type": "code",
      "metadata": {
        "colab": {
          "base_uri": "https://localhost:8080/"
        },
        "id": "jUBiHRA5Ad_J",
        "outputId": "b297a9e4-142b-415e-9d9f-3f935f466e01"
      },
      "source": [
        " a=[1,4,5,6,'Shubham']\n",
        " type(a)"
      ],
      "execution_count": 8,
      "outputs": [
        {
          "output_type": "execute_result",
          "data": {
            "text/plain": [
              "list"
            ]
          },
          "metadata": {},
          "execution_count": 8
        }
      ]
    },
    {
      "cell_type": "code",
      "metadata": {
        "colab": {
          "base_uri": "https://localhost:8080/"
        },
        "id": "WFbEMiqqAeFh",
        "outputId": "21ab35a0-ea46-4fce-b772-2a0d63cbf154"
      },
      "source": [
        "a[1]"
      ],
      "execution_count": 9,
      "outputs": [
        {
          "output_type": "execute_result",
          "data": {
            "text/plain": [
              "4"
            ]
          },
          "metadata": {},
          "execution_count": 9
        }
      ]
    },
    {
      "cell_type": "code",
      "metadata": {
        "colab": {
          "base_uri": "https://localhost:8080/"
        },
        "id": "TPakKG3JA3Ll",
        "outputId": "6f03f951-dae5-43af-ff33-04c4162e2035"
      },
      "source": [
        "a.append('MOURYA')\n",
        "a"
      ],
      "execution_count": 10,
      "outputs": [
        {
          "output_type": "execute_result",
          "data": {
            "text/plain": [
              "[1, 4, 5, 6, 'Shubham', 'MOURYA']"
            ]
          },
          "metadata": {},
          "execution_count": 10
        }
      ]
    },
    {
      "cell_type": "code",
      "metadata": {
        "colab": {
          "base_uri": "https://localhost:8080/"
        },
        "id": "nAJyS0JAA-_F",
        "outputId": "fe8e30be-25cf-4ec9-dbc1-72694ac29289"
      },
      "source": [
        "a.append([123,'DATA SCIENCE'])\n",
        "a"
      ],
      "execution_count": 11,
      "outputs": [
        {
          "output_type": "execute_result",
          "data": {
            "text/plain": [
              "[1, 4, 5, 6, 'Shubham', 'MOURYA', [123, 'DATA SCIENCE']]"
            ]
          },
          "metadata": {},
          "execution_count": 11
        }
      ]
    },
    {
      "cell_type": "code",
      "metadata": {
        "colab": {
          "base_uri": "https://localhost:8080/"
        },
        "id": "GgZAbQRgBHZ9",
        "outputId": "5a145716-6923-440b-cd4a-d8408ac58461"
      },
      "source": [
        "a[1:5]"
      ],
      "execution_count": 12,
      "outputs": [
        {
          "output_type": "execute_result",
          "data": {
            "text/plain": [
              "[4, 5, 6, 'Shubham']"
            ]
          },
          "metadata": {},
          "execution_count": 12
        }
      ]
    },
    {
      "cell_type": "code",
      "metadata": {
        "colab": {
          "base_uri": "https://localhost:8080/"
        },
        "id": "_h1ii7p_BNYU",
        "outputId": "d3ea8baa-4fc9-4438-947b-5b1fdc8d204f"
      },
      "source": [
        "a[::-1] ##reverse the string"
      ],
      "execution_count": 14,
      "outputs": [
        {
          "output_type": "execute_result",
          "data": {
            "text/plain": [
              "[[123, 'DATA SCIENCE'], 'MOURYA', 'Shubham', 6, 5, 4, 1]"
            ]
          },
          "metadata": {},
          "execution_count": 14
        }
      ]
    },
    {
      "cell_type": "code",
      "metadata": {
        "colab": {
          "base_uri": "https://localhost:8080/"
        },
        "id": "ubSIWipHBTYL",
        "outputId": "8d35b535-56d3-4522-fe71-1e546fff6390"
      },
      "source": [
        "a.insert(3,'Mom')\n",
        "a"
      ],
      "execution_count": 16,
      "outputs": [
        {
          "output_type": "execute_result",
          "data": {
            "text/plain": [
              "[1, 4, 5, 'Mom', 'Mom', 6, 'Shubham', 'MOURYA', [123, 'DATA SCIENCE']]"
            ]
          },
          "metadata": {},
          "execution_count": 16
        }
      ]
    },
    {
      "cell_type": "code",
      "metadata": {
        "colab": {
          "base_uri": "https://localhost:8080/"
        },
        "id": "SykAlb6wBae4",
        "outputId": "4a539c9f-92c3-4780-e50a-a66aee4d5766"
      },
      "source": [
        "a.remove('Mom')\n",
        "a"
      ],
      "execution_count": 17,
      "outputs": [
        {
          "output_type": "execute_result",
          "data": {
            "text/plain": [
              "[1, 4, 5, 'Mom', 6, 'Shubham', 'MOURYA', [123, 'DATA SCIENCE']]"
            ]
          },
          "metadata": {},
          "execution_count": 17
        }
      ]
    },
    {
      "cell_type": "markdown",
      "metadata": {
        "id": "rfqoP1udB1la"
      },
      "source": [
        "**SET**"
      ]
    },
    {
      "cell_type": "code",
      "metadata": {
        "colab": {
          "base_uri": "https://localhost:8080/"
        },
        "id": "bt6nM63QB3so",
        "outputId": "f92b2358-8d03-44d0-ec2b-89a762ef8778"
      },
      "source": [
        "a={2,1,2,3,4,2}\n",
        "a  #no repeats shown,unordered pairs, based on hash table,doesnt support indexing"
      ],
      "execution_count": 18,
      "outputs": [
        {
          "output_type": "execute_result",
          "data": {
            "text/plain": [
              "{1, 2, 3, 4}"
            ]
          },
          "metadata": {},
          "execution_count": 18
        }
      ]
    },
    {
      "cell_type": "code",
      "metadata": {
        "colab": {
          "base_uri": "https://localhost:8080/"
        },
        "id": "MJu6VMgzCB9C",
        "outputId": "b22e1b5e-d11f-431f-ad0e-b9cc3236c3d9"
      },
      "source": [
        "a.add(10)\n",
        "a"
      ],
      "execution_count": 20,
      "outputs": [
        {
          "output_type": "execute_result",
          "data": {
            "text/plain": [
              "{1, 2, 3, 4, 9, 10}"
            ]
          },
          "metadata": {},
          "execution_count": 20
        }
      ]
    },
    {
      "cell_type": "code",
      "metadata": {
        "colab": {
          "base_uri": "https://localhost:8080/"
        },
        "id": "T0fRqBWnCJYZ",
        "outputId": "4e129983-4150-41a7-96eb-dbfdf08a9490"
      },
      "source": [
        "a={1,2,3,4,5}\n",
        "b={2,4,5,2,4,3,3,7,8}\n",
        "a.intersection(b)"
      ],
      "execution_count": 21,
      "outputs": [
        {
          "output_type": "execute_result",
          "data": {
            "text/plain": [
              "{2, 3, 4, 5}"
            ]
          },
          "metadata": {},
          "execution_count": 21
        }
      ]
    },
    {
      "cell_type": "code",
      "metadata": {
        "colab": {
          "base_uri": "https://localhost:8080/"
        },
        "id": "ZBLCct19CBoI",
        "outputId": "46bf55ae-1c8d-48a4-eac6-57d12e4cb6e7"
      },
      "source": [
        "a.union(b)"
      ],
      "execution_count": 22,
      "outputs": [
        {
          "output_type": "execute_result",
          "data": {
            "text/plain": [
              "{1, 2, 3, 4, 5, 7, 8}"
            ]
          },
          "metadata": {},
          "execution_count": 22
        }
      ]
    },
    {
      "cell_type": "code",
      "metadata": {
        "colab": {
          "base_uri": "https://localhost:8080/"
        },
        "id": "FvVsXn1rCR6f",
        "outputId": "68b3d9db-4eea-41c2-db5b-f31bd2d4a6a5"
      },
      "source": [
        "a-b"
      ],
      "execution_count": 23,
      "outputs": [
        {
          "output_type": "execute_result",
          "data": {
            "text/plain": [
              "{1}"
            ]
          },
          "metadata": {},
          "execution_count": 23
        }
      ]
    },
    {
      "cell_type": "markdown",
      "metadata": {
        "id": "B31TaadSCYeX"
      },
      "source": [
        "**LOOPS**"
      ]
    },
    {
      "cell_type": "code",
      "metadata": {
        "colab": {
          "base_uri": "https://localhost:8080/"
        },
        "id": "rNYlnYgxCbv0",
        "outputId": "27539349-cd07-4060-9282-63f10e6e3559"
      },
      "source": [
        "a=[2,4,2,5,7,2,8,4]\n",
        "for x in a:\n",
        "    print(x,end=\" \")   #iterationg through list items"
      ],
      "execution_count": 26,
      "outputs": [
        {
          "output_type": "stream",
          "name": "stdout",
          "text": [
            "2 4 2 5 7 2 8 4 "
          ]
        }
      ]
    },
    {
      "cell_type": "code",
      "metadata": {
        "colab": {
          "base_uri": "https://localhost:8080/"
        },
        "id": "6yAjQWhQCi_T",
        "outputId": "036d3743-c619-49ed-eda2-28e9d692bbfd"
      },
      "source": [
        "for index,value in enumerate(a):  #iterating through list using indexes\n",
        "    print(index,value) # can be replaced as ch=a[index]"
      ],
      "execution_count": 27,
      "outputs": [
        {
          "output_type": "stream",
          "name": "stdout",
          "text": [
            "0 2\n",
            "1 4\n",
            "2 2\n",
            "3 5\n",
            "4 7\n",
            "5 2\n",
            "6 8\n",
            "7 4\n"
          ]
        }
      ]
    },
    {
      "cell_type": "code",
      "metadata": {
        "colab": {
          "base_uri": "https://localhost:8080/"
        },
        "id": "PV5mUVtjHaRc",
        "outputId": "8ddfcf19-5440-45d1-c65b-a1d5e4e0f681"
      },
      "source": [
        "a=20\n",
        "b=30\n",
        "print(a,b)\n",
        "a,b=b,a\n",
        "#after swapping\n",
        "print(a,b)"
      ],
      "execution_count": 28,
      "outputs": [
        {
          "output_type": "stream",
          "name": "stdout",
          "text": [
            "20 30\n",
            "30 20\n"
          ]
        }
      ]
    },
    {
      "cell_type": "code",
      "metadata": {
        "colab": {
          "base_uri": "https://localhost:8080/"
        },
        "id": "Li8lvzP1Htee",
        "outputId": "8453e039-b74a-4a31-cd77-8ea202ddb1c6"
      },
      "source": [
        "for num in range(1,10):\n",
        "  print(num)"
      ],
      "execution_count": 29,
      "outputs": [
        {
          "output_type": "stream",
          "name": "stdout",
          "text": [
            "1\n",
            "2\n",
            "3\n",
            "4\n",
            "5\n",
            "6\n",
            "7\n",
            "8\n",
            "9\n"
          ]
        }
      ]
    },
    {
      "cell_type": "markdown",
      "metadata": {
        "id": "QPtYxHVmH0qN"
      },
      "source": [
        "**LIST COMPRESHENSION**"
      ]
    },
    {
      "cell_type": "code",
      "metadata": {
        "colab": {
          "base_uri": "https://localhost:8080/"
        },
        "id": "3Lk38x05H5bM",
        "outputId": "d4839875-654f-4bf5-9b80-1d0c4d4e7e63"
      },
      "source": [
        "a=[i for i in range(1,10)]    \n",
        "a"
      ],
      "execution_count": 30,
      "outputs": [
        {
          "output_type": "execute_result",
          "data": {
            "text/plain": [
              "[1, 2, 3, 4, 5, 6, 7, 8, 9]"
            ]
          },
          "metadata": {},
          "execution_count": 30
        }
      ]
    },
    {
      "cell_type": "code",
      "metadata": {
        "colab": {
          "base_uri": "https://localhost:8080/"
        },
        "id": "ViHo9gAaIAWU",
        "outputId": "aaff59eb-070b-473f-9def-906d1e5c7784"
      },
      "source": [
        "\n",
        "t=[2**i for i in range(1,11) if i%2==0]   \n",
        "t"
      ],
      "execution_count": 31,
      "outputs": [
        {
          "output_type": "execute_result",
          "data": {
            "text/plain": [
              "[4, 16, 64, 256, 1024]"
            ]
          },
          "metadata": {},
          "execution_count": 31
        }
      ]
    },
    {
      "cell_type": "code",
      "metadata": {
        "colab": {
          "base_uri": "https://localhost:8080/"
        },
        "id": "uRbFqpMWIFlx",
        "outputId": "eeff0005-b171-4b6e-da93-13db22327c4e"
      },
      "source": [
        "b=[[i*n for i in range(1,11)] for n in range(1,11)]\n",
        "b"
      ],
      "execution_count": 32,
      "outputs": [
        {
          "output_type": "execute_result",
          "data": {
            "text/plain": [
              "[[1, 2, 3, 4, 5, 6, 7, 8, 9, 10],\n",
              " [2, 4, 6, 8, 10, 12, 14, 16, 18, 20],\n",
              " [3, 6, 9, 12, 15, 18, 21, 24, 27, 30],\n",
              " [4, 8, 12, 16, 20, 24, 28, 32, 36, 40],\n",
              " [5, 10, 15, 20, 25, 30, 35, 40, 45, 50],\n",
              " [6, 12, 18, 24, 30, 36, 42, 48, 54, 60],\n",
              " [7, 14, 21, 28, 35, 42, 49, 56, 63, 70],\n",
              " [8, 16, 24, 32, 40, 48, 56, 64, 72, 80],\n",
              " [9, 18, 27, 36, 45, 54, 63, 72, 81, 90],\n",
              " [10, 20, 30, 40, 50, 60, 70, 80, 90, 100]]"
            ]
          },
          "metadata": {},
          "execution_count": 32
        }
      ]
    },
    {
      "cell_type": "code",
      "metadata": {
        "colab": {
          "base_uri": "https://localhost:8080/"
        },
        "id": "xEPsBJfIINgX",
        "outputId": "8c8b5ad0-6d48-4516-b12b-1296a416d68c"
      },
      "source": [
        "{i: i**2 for i in range(10) if i%2==0}"
      ],
      "execution_count": 33,
      "outputs": [
        {
          "output_type": "execute_result",
          "data": {
            "text/plain": [
              "{0: 0, 2: 4, 4: 16, 6: 36, 8: 64}"
            ]
          },
          "metadata": {},
          "execution_count": 33
        }
      ]
    },
    {
      "cell_type": "markdown",
      "metadata": {
        "id": "TViHRLP7IyyC"
      },
      "source": [
        "**DICTIONARY**"
      ]
    },
    {
      "cell_type": "code",
      "metadata": {
        "id": "HTphFvgkI9UO"
      },
      "source": [
        "my_dict={\"Car1\": \"Audi\", \"Car2\":\"BMW\",\"Car3\":\"Mercidies Benz\"}"
      ],
      "execution_count": 34,
      "outputs": []
    },
    {
      "cell_type": "code",
      "metadata": {
        "colab": {
          "base_uri": "https://localhost:8080/"
        },
        "id": "5cvaJs7mJCVp",
        "outputId": "81ace95c-04d5-4cd8-a755-165a8cd47116"
      },
      "source": [
        "type(my_dict)"
      ],
      "execution_count": 35,
      "outputs": [
        {
          "output_type": "execute_result",
          "data": {
            "text/plain": [
              "dict"
            ]
          },
          "metadata": {},
          "execution_count": 35
        }
      ]
    },
    {
      "cell_type": "code",
      "metadata": {
        "colab": {
          "base_uri": "https://localhost:8080/",
          "height": 35
        },
        "id": "BXyc-Z7JJGEt",
        "outputId": "1c9592c2-dc67-4ad4-bf8e-706539ef1e26"
      },
      "source": [
        "my_dict['Car1']"
      ],
      "execution_count": 36,
      "outputs": [
        {
          "output_type": "execute_result",
          "data": {
            "application/vnd.google.colaboratory.intrinsic+json": {
              "type": "string"
            },
            "text/plain": [
              "'Audi'"
            ]
          },
          "metadata": {},
          "execution_count": 36
        }
      ]
    },
    {
      "cell_type": "code",
      "metadata": {
        "colab": {
          "base_uri": "https://localhost:8080/"
        },
        "id": "3UfsLKzOJNMT",
        "outputId": "b695606c-6330-4d7d-e567-e010c313f515"
      },
      "source": [
        "for x in my_dict:\n",
        "    print(x)"
      ],
      "execution_count": 37,
      "outputs": [
        {
          "output_type": "stream",
          "name": "stdout",
          "text": [
            "Car1\n",
            "Car2\n",
            "Car3\n"
          ]
        }
      ]
    },
    {
      "cell_type": "code",
      "metadata": {
        "colab": {
          "base_uri": "https://localhost:8080/"
        },
        "id": "tEOMTZT5JQ5I",
        "outputId": "be7fddc9-ce30-43c8-d9e5-2efa999eed68"
      },
      "source": [
        "for x in my_dict.values():\n",
        "    print(x)"
      ],
      "execution_count": 38,
      "outputs": [
        {
          "output_type": "stream",
          "name": "stdout",
          "text": [
            "Audi\n",
            "BMW\n",
            "Mercidies Benz\n"
          ]
        }
      ]
    },
    {
      "cell_type": "code",
      "metadata": {
        "colab": {
          "base_uri": "https://localhost:8080/"
        },
        "id": "hQKmUQbYJRAy",
        "outputId": "dd538bf6-daad-46c8-bc62-2361cbf0def7"
      },
      "source": [
        "for x in my_dict.items():\n",
        "    print(x)"
      ],
      "execution_count": 39,
      "outputs": [
        {
          "output_type": "stream",
          "name": "stdout",
          "text": [
            "('Car1', 'Audi')\n",
            "('Car2', 'BMW')\n",
            "('Car3', 'Mercidies Benz')\n"
          ]
        }
      ]
    },
    {
      "cell_type": "code",
      "metadata": {
        "id": "A_QIOgRYJZKE"
      },
      "source": [
        "my_dict['car4']='Audi 2.0'"
      ],
      "execution_count": 40,
      "outputs": []
    },
    {
      "cell_type": "code",
      "metadata": {
        "colab": {
          "base_uri": "https://localhost:8080/"
        },
        "id": "5luCiVNNJdcn",
        "outputId": "5ee9d01c-8f90-4568-98f9-080f0f278d5e"
      },
      "source": [
        "my_dict"
      ],
      "execution_count": 41,
      "outputs": [
        {
          "output_type": "execute_result",
          "data": {
            "text/plain": [
              "{'Car1': 'Audi', 'Car2': 'BMW', 'Car3': 'Mercidies Benz', 'car4': 'Audi 2.0'}"
            ]
          },
          "metadata": {},
          "execution_count": 41
        }
      ]
    },
    {
      "cell_type": "code",
      "metadata": {
        "colab": {
          "base_uri": "https://localhost:8080/"
        },
        "id": "6CFGgoWFJiM4",
        "outputId": "e8b0e473-b47b-4b91-fc9e-d2d5cf47c072"
      },
      "source": [
        "def multiply(x):\n",
        "    return x*2\n",
        "isinstance(multiply,object)"
      ],
      "execution_count": 42,
      "outputs": [
        {
          "output_type": "execute_result",
          "data": {
            "text/plain": [
              "True"
            ]
          },
          "metadata": {},
          "execution_count": 42
        }
      ]
    },
    {
      "cell_type": "code",
      "metadata": {
        "id": "-lUruP7-JnMx"
      },
      "source": [
        "##Nested Dictionary\n",
        "\n",
        "car1_model={'Mercedes':1960}\n",
        "car2_model={'Audi':1970}\n",
        "car3_model={'Ambassador':1980}\n",
        "\n",
        "car_type={'car1':car1_model,'car2':car2_model,'car3':car3_model}"
      ],
      "execution_count": 43,
      "outputs": []
    },
    {
      "cell_type": "code",
      "metadata": {
        "colab": {
          "base_uri": "https://localhost:8080/"
        },
        "id": "uMRYF_5eJvXe",
        "outputId": "53ddf4fd-b8d5-471a-c6f4-48304661e2a6"
      },
      "source": [
        "print(car_type)"
      ],
      "execution_count": 44,
      "outputs": [
        {
          "output_type": "stream",
          "name": "stdout",
          "text": [
            "{'car1': {'Mercedes': 1960}, 'car2': {'Audi': 1970}, 'car3': {'Ambassador': 1980}}\n"
          ]
        }
      ]
    },
    {
      "cell_type": "code",
      "metadata": {
        "colab": {
          "base_uri": "https://localhost:8080/"
        },
        "id": "6OQyljEFJzmT",
        "outputId": "5012f225-b17b-46d6-bb15-f55d282c42a5"
      },
      "source": [
        "print(car_type['car1']['Mercedes'])"
      ],
      "execution_count": 45,
      "outputs": [
        {
          "output_type": "stream",
          "name": "stdout",
          "text": [
            "1960\n"
          ]
        }
      ]
    },
    {
      "cell_type": "code",
      "metadata": {
        "colab": {
          "base_uri": "https://localhost:8080/"
        },
        "id": "W4U9LgtoJ5s8",
        "outputId": "6fef39c8-9baa-4f64-a76a-1ac856612553"
      },
      "source": [
        "## MAP function\n",
        "a=[1,2,3,4,5,6]\n",
        "list(map(lambda x:2*x,a))"
      ],
      "execution_count": 46,
      "outputs": [
        {
          "output_type": "execute_result",
          "data": {
            "text/plain": [
              "[2, 4, 6, 8, 10, 12]"
            ]
          },
          "metadata": {},
          "execution_count": 46
        }
      ]
    },
    {
      "cell_type": "code",
      "metadata": {
        "colab": {
          "base_uri": "https://localhost:8080/"
        },
        "id": "df_cuBd7J-Yq",
        "outputId": "64eb8ed2-9cb0-44d3-95a2-18ab0d3d35e2"
      },
      "source": [
        "b=[1,2,3,4,5,6,7,8,9,10,11,12]\n",
        "def isEven(x):\n",
        "    if x%2==0:\n",
        "        return True\n",
        "    else:\n",
        "        return False   \n",
        "    \n",
        "list(filter(isEven,b))"
      ],
      "execution_count": 47,
      "outputs": [
        {
          "output_type": "execute_result",
          "data": {
            "text/plain": [
              "[2, 4, 6, 8, 10, 12]"
            ]
          },
          "metadata": {},
          "execution_count": 47
        }
      ]
    },
    {
      "cell_type": "code",
      "metadata": {
        "colab": {
          "base_uri": "https://localhost:8080/"
        },
        "id": "_Fx22oGKKEDg",
        "outputId": "6962d9d2-6837-4cdd-a3b6-bc45db17fc5b"
      },
      "source": [
        "list(filter(lambda x:x%2==0,b))"
      ],
      "execution_count": 48,
      "outputs": [
        {
          "output_type": "execute_result",
          "data": {
            "text/plain": [
              "[2, 4, 6, 8, 10, 12]"
            ]
          },
          "metadata": {},
          "execution_count": 48
        }
      ]
    },
    {
      "cell_type": "code",
      "metadata": {
        "colab": {
          "base_uri": "https://localhost:8080/"
        },
        "id": "aVQ9Bt2AKNOn",
        "outputId": "89d6b946-0e50-4ae8-d7ac-36cc5120d5b2"
      },
      "source": [
        "b=\"1 2 3 4 5 6 7 8 9\"\n",
        "b.split(' ')"
      ],
      "execution_count": 49,
      "outputs": [
        {
          "output_type": "execute_result",
          "data": {
            "text/plain": [
              "['1', '2', '3', '4', '5', '6', '7', '8', '9']"
            ]
          },
          "metadata": {},
          "execution_count": 49
        }
      ]
    },
    {
      "cell_type": "code",
      "metadata": {
        "colab": {
          "base_uri": "https://localhost:8080/",
          "height": 35
        },
        "id": "UFV2RS1aKP9e",
        "outputId": "cca77b45-ab98-4deb-f525-a4a3620242cd"
      },
      "source": [
        "'-'.join(b)"
      ],
      "execution_count": 50,
      "outputs": [
        {
          "output_type": "execute_result",
          "data": {
            "application/vnd.google.colaboratory.intrinsic+json": {
              "type": "string"
            },
            "text/plain": [
              "'1- -2- -3- -4- -5- -6- -7- -8- -9'"
            ]
          },
          "metadata": {},
          "execution_count": 50
        }
      ]
    },
    {
      "cell_type": "code",
      "metadata": {
        "colab": {
          "base_uri": "https://localhost:8080/"
        },
        "id": "ypf_AAlpKUcD",
        "outputId": "966c38a5-45f7-4336-ec62-eeb0db0188fb"
      },
      "source": [
        "b=\"1 2 3 4 5 6 7 8 9\"\n",
        "b.split(' ')"
      ],
      "execution_count": 51,
      "outputs": [
        {
          "output_type": "execute_result",
          "data": {
            "text/plain": [
              "['1', '2', '3', '4', '5', '6', '7', '8', '9']"
            ]
          },
          "metadata": {},
          "execution_count": 51
        }
      ]
    },
    {
      "cell_type": "code",
      "metadata": {
        "colab": {
          "base_uri": "https://localhost:8080/",
          "height": 35
        },
        "id": "m5p3CIbpKWZ0",
        "outputId": "60121518-e8cd-47f6-e103-de12d11b0b26"
      },
      "source": [
        "new=\"  2 3 4 5 6  \"\n",
        "new=new.strip()\n",
        "new"
      ],
      "execution_count": 52,
      "outputs": [
        {
          "output_type": "execute_result",
          "data": {
            "application/vnd.google.colaboratory.intrinsic+json": {
              "type": "string"
            },
            "text/plain": [
              "'2 3 4 5 6'"
            ]
          },
          "metadata": {},
          "execution_count": 52
        }
      ]
    },
    {
      "cell_type": "code",
      "metadata": {
        "colab": {
          "base_uri": "https://localhost:8080/"
        },
        "id": "E7FMQYZNKcbV",
        "outputId": "1150fcc4-3c49-496d-8030-922f43252f51"
      },
      "source": [
        "li=new.split(\" \")\n",
        "li"
      ],
      "execution_count": 53,
      "outputs": [
        {
          "output_type": "execute_result",
          "data": {
            "text/plain": [
              "['2', '3', '4', '5', '6']"
            ]
          },
          "metadata": {},
          "execution_count": 53
        }
      ]
    },
    {
      "cell_type": "code",
      "metadata": {
        "colab": {
          "base_uri": "https://localhost:8080/"
        },
        "id": "pI6gV8WiKl_A",
        "outputId": "e71dd7f6-c07e-4054-a578-1afa0cc10b78"
      },
      "source": [
        "li=list(map(int,li))\n",
        "li"
      ],
      "execution_count": 55,
      "outputs": [
        {
          "output_type": "execute_result",
          "data": {
            "text/plain": [
              "[2, 3, 4, 5, 6]"
            ]
          },
          "metadata": {},
          "execution_count": 55
        }
      ]
    }
  ]
}