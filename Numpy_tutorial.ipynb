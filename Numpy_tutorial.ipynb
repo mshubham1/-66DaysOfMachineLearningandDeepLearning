{
  "nbformat": 4,
  "nbformat_minor": 0,
  "metadata": {
    "colab": {
      "name": "Untitled8.ipynb",
      "provenance": [],
      "authorship_tag": "ABX9TyMZOTt2DmZb+DqUZP70tILM",
      "include_colab_link": true
    },
    "kernelspec": {
      "name": "python3",
      "display_name": "Python 3"
    },
    "language_info": {
      "name": "python"
    }
  },
  "cells": [
    {
      "cell_type": "markdown",
      "metadata": {
        "id": "view-in-github",
        "colab_type": "text"
      },
      "source": [
        "<a href=\"https://colab.research.google.com/github/mshubham1/-66DaysOfMachineLearningandDeepLearning/blob/main/Numpy_tutorial.ipynb\" target=\"_parent\"><img src=\"https://colab.research.google.com/assets/colab-badge.svg\" alt=\"Open In Colab\"/></a>"
      ]
    },
    {
      "cell_type": "code",
      "metadata": {
        "id": "DWf2dETdDREd"
      },
      "source": [
        "# NUMPY -- \n",
        "# NumPy is a Python library used for working with arrays.\n",
        "# It is used in the domain of linear algebra, fourier transform, and matrices.\n",
        "# The array object in NumPy is called ndarray, it provides a lot of supporting functions that make working with ndarray very easy.."
      ],
      "execution_count": 1,
      "outputs": []
    },
    {
      "cell_type": "code",
      "metadata": {
        "colab": {
          "base_uri": "https://localhost:8080/"
        },
        "id": "eHeWnmKRGAA6",
        "outputId": "2567a838-5948-4cd1-a16a-a2a651517c10"
      },
      "source": [
        "import numpy as np\n",
        "a = np.array([1,2,3])  #1-D ARRAY\n",
        "b = np.array([(1.5,2,3), (4,5,6)], dtype = float) #2-D ARRAY\n",
        "c = np.array([[(1.5,2,3), (4,5,6)], [(3,2,1), (4,5,6)]],  dtype = float) #3D ARRAY\n",
        "print(a)\n",
        "print(b)\n",
        "print(c)"
      ],
      "execution_count": 2,
      "outputs": [
        {
          "output_type": "stream",
          "name": "stdout",
          "text": [
            "[1 2 3]\n",
            "[[1.5 2.  3. ]\n",
            " [4.  5.  6. ]]\n",
            "[[[1.5 2.  3. ]\n",
            "  [4.  5.  6. ]]\n",
            "\n",
            " [[3.  2.  1. ]\n",
            "  [4.  5.  6. ]]]\n"
          ]
        }
      ]
    },
    {
      "cell_type": "code",
      "metadata": {
        "colab": {
          "base_uri": "https://localhost:8080/"
        },
        "id": "tx3lH9_qGfYz",
        "outputId": "18c98d01-d389-4457-862a-3fb0d7c081d2"
      },
      "source": [
        "lst=[1,2,3,4,5]\n",
        "arr=np.array(lst)\n",
        "print(arr)"
      ],
      "execution_count": 3,
      "outputs": [
        {
          "output_type": "stream",
          "name": "stdout",
          "text": [
            "[1 2 3 4 5]\n"
          ]
        }
      ]
    },
    {
      "cell_type": "code",
      "metadata": {
        "colab": {
          "base_uri": "https://localhost:8080/"
        },
        "id": "c9bi08SqGwB0",
        "outputId": "4aaf8975-2542-4ca5-b9ac-7f1847364ad5"
      },
      "source": [
        "##Creating zeros array\n",
        "np.zeros((3,4))"
      ],
      "execution_count": 4,
      "outputs": [
        {
          "output_type": "execute_result",
          "data": {
            "text/plain": [
              "array([[0., 0., 0., 0.],\n",
              "       [0., 0., 0., 0.],\n",
              "       [0., 0., 0., 0.]])"
            ]
          },
          "metadata": {},
          "execution_count": 4
        }
      ]
    },
    {
      "cell_type": "code",
      "metadata": {
        "colab": {
          "base_uri": "https://localhost:8080/"
        },
        "id": "BB5nR13VHEY0",
        "outputId": "3b85d5d0-3643-4c6e-88f1-63b90c7aff31"
      },
      "source": [
        "# Create an array of ones\n",
        "np.ones((2,3,4),dtype=np.int16) "
      ],
      "execution_count": 5,
      "outputs": [
        {
          "output_type": "execute_result",
          "data": {
            "text/plain": [
              "array([[[1, 1, 1, 1],\n",
              "        [1, 1, 1, 1],\n",
              "        [1, 1, 1, 1]],\n",
              "\n",
              "       [[1, 1, 1, 1],\n",
              "        [1, 1, 1, 1],\n",
              "        [1, 1, 1, 1]]], dtype=int16)"
            ]
          },
          "metadata": {},
          "execution_count": 5
        }
      ]
    },
    {
      "cell_type": "code",
      "metadata": {
        "colab": {
          "base_uri": "https://localhost:8080/"
        },
        "id": "NEw-jIbiHT-b",
        "outputId": "4b51f86d-6caf-4f5d-c8d7-83a7351e50a7"
      },
      "source": [
        "d = np.arange(10,25,5) #Create an array of evenly spaced values\n",
        "print(d)\n",
        "print(np.linspace(0,2,9)) #Create an array of evenly spaced values (number of samples)\n"
      ],
      "execution_count": 6,
      "outputs": [
        {
          "output_type": "stream",
          "name": "stdout",
          "text": [
            "[10 15 20]\n",
            "[0.   0.25 0.5  0.75 1.   1.25 1.5  1.75 2.  ]\n"
          ]
        }
      ]
    },
    {
      "cell_type": "code",
      "metadata": {
        "colab": {
          "base_uri": "https://localhost:8080/"
        },
        "id": "t7NUpHOGHqac",
        "outputId": "e074f55b-b7e3-4d9b-8158-12815d44c8e8"
      },
      "source": [
        "# Create a constant array\n",
        "e = np.full((2,2),7)  \n",
        "print(e)"
      ],
      "execution_count": 7,
      "outputs": [
        {
          "output_type": "stream",
          "name": "stdout",
          "text": [
            "[[7 7]\n",
            " [7 7]]\n"
          ]
        }
      ]
    },
    {
      "cell_type": "code",
      "metadata": {
        "colab": {
          "base_uri": "https://localhost:8080/"
        },
        "id": "Mrk0FlA1H1ov",
        "outputId": "696a3c57-58ea-41d2-9c8c-203c1fca6bca"
      },
      "source": [
        "##INDEXING OF ARRAY\n",
        "my_lst1=[1,2,3,4,5]\n",
        "my_lst2=[2,3,4,5,6]\n",
        "my_lst3=[9,7,6,8,9]\n",
        "\n",
        "arr=np.array([my_lst1,my_lst2,my_lst3])\n",
        "arr"
      ],
      "execution_count": 8,
      "outputs": [
        {
          "output_type": "execute_result",
          "data": {
            "text/plain": [
              "array([[1, 2, 3, 4, 5],\n",
              "       [2, 3, 4, 5, 6],\n",
              "       [9, 7, 6, 8, 9]])"
            ]
          },
          "metadata": {},
          "execution_count": 8
        }
      ]
    },
    {
      "cell_type": "code",
      "metadata": {
        "colab": {
          "base_uri": "https://localhost:8080/"
        },
        "id": "V4NKXBpmIXdM",
        "outputId": "bab94a7e-ffeb-4579-cb3b-e4797912b1d4"
      },
      "source": [
        "##accessing 1st and 2nd row and column :1-3\n",
        "arr[1:,:3]"
      ],
      "execution_count": 9,
      "outputs": [
        {
          "output_type": "execute_result",
          "data": {
            "text/plain": [
              "array([[2, 3, 4],\n",
              "       [9, 7, 6]])"
            ]
          },
          "metadata": {},
          "execution_count": 9
        }
      ]
    },
    {
      "cell_type": "code",
      "metadata": {
        "colab": {
          "base_uri": "https://localhost:8080/"
        },
        "id": "Gk12SFEmIvU_",
        "outputId": "79ccd92d-1e28-4dd9-b2bf-2b2270d6cfe8"
      },
      "source": [
        "#last column value\n",
        "arr[:,-1]"
      ],
      "execution_count": 11,
      "outputs": [
        {
          "output_type": "execute_result",
          "data": {
            "text/plain": [
              "array([5, 6, 9])"
            ]
          },
          "metadata": {},
          "execution_count": 11
        }
      ]
    },
    {
      "cell_type": "code",
      "metadata": {
        "colab": {
          "base_uri": "https://localhost:8080/"
        },
        "id": "ojr5BT2vI7g9",
        "outputId": "8598d13f-9b35-4707-80ea-404cd7f26000"
      },
      "source": [
        "#1column value\n",
        "arr[:,:1]"
      ],
      "execution_count": 15,
      "outputs": [
        {
          "output_type": "execute_result",
          "data": {
            "text/plain": [
              "array([[1],\n",
              "       [2],\n",
              "       [9]])"
            ]
          },
          "metadata": {},
          "execution_count": 15
        }
      ]
    },
    {
      "cell_type": "code",
      "metadata": {
        "colab": {
          "base_uri": "https://localhost:8080/"
        },
        "id": "QWN3uAHWJQB0",
        "outputId": "bccbdcf7-6923-4159-9356-e47c0a92a2f9"
      },
      "source": [
        "arr.shape"
      ],
      "execution_count": 16,
      "outputs": [
        {
          "output_type": "execute_result",
          "data": {
            "text/plain": [
              "(3, 5)"
            ]
          },
          "metadata": {},
          "execution_count": 16
        }
      ]
    },
    {
      "cell_type": "code",
      "metadata": {
        "colab": {
          "base_uri": "https://localhost:8080/"
        },
        "id": "DndCZslpJUG-",
        "outputId": "8336d556-9121-4739-9a37-a47d764a6b7c"
      },
      "source": [
        "arr.reshape(5,3)"
      ],
      "execution_count": 17,
      "outputs": [
        {
          "output_type": "execute_result",
          "data": {
            "text/plain": [
              "array([[1, 2, 3],\n",
              "       [4, 5, 2],\n",
              "       [3, 4, 5],\n",
              "       [6, 9, 7],\n",
              "       [6, 8, 9]])"
            ]
          },
          "metadata": {},
          "execution_count": 17
        }
      ]
    },
    {
      "cell_type": "code",
      "metadata": {
        "colab": {
          "base_uri": "https://localhost:8080/"
        },
        "id": "jkgDaM3BJTpQ",
        "outputId": "8a0bbccf-7e3c-40c1-dede-8b49245c3cbc"
      },
      "source": [
        "np.arange(0,15).reshape(5,3)"
      ],
      "execution_count": 20,
      "outputs": [
        {
          "output_type": "execute_result",
          "data": {
            "text/plain": [
              "array([[ 0,  1,  2],\n",
              "       [ 3,  4,  5],\n",
              "       [ 6,  7,  8],\n",
              "       [ 9, 10, 11],\n",
              "       [12, 13, 14]])"
            ]
          },
          "metadata": {},
          "execution_count": 20
        }
      ]
    },
    {
      "cell_type": "code",
      "metadata": {
        "colab": {
          "base_uri": "https://localhost:8080/"
        },
        "id": "5w7kARfRJ6jY",
        "outputId": "5ec4d126-e41d-4c3f-feaf-a636a609cb7c"
      },
      "source": [
        "np.random.rand(3,3)"
      ],
      "execution_count": 21,
      "outputs": [
        {
          "output_type": "execute_result",
          "data": {
            "text/plain": [
              "array([[0.92637782, 0.80928914, 0.41734771],\n",
              "       [0.35044049, 0.53849745, 0.73502904],\n",
              "       [0.00185018, 0.91505732, 0.0693795 ]])"
            ]
          },
          "metadata": {},
          "execution_count": 21
        }
      ]
    },
    {
      "cell_type": "code",
      "metadata": {
        "colab": {
          "base_uri": "https://localhost:8080/",
          "height": 340
        },
        "id": "vMek8onCJ_Gk",
        "outputId": "172e0bfa-61fa-4ca8-9d60-830e11a56565"
      },
      "source": [
        "import seaborn as sns\n",
        "import pandas as pd\n",
        "sns.distplot(pd.DataFrame(np.random.rand(3,3)))"
      ],
      "execution_count": 23,
      "outputs": [
        {
          "output_type": "stream",
          "name": "stderr",
          "text": [
            "/usr/local/lib/python3.7/dist-packages/seaborn/distributions.py:2619: FutureWarning: `distplot` is a deprecated function and will be removed in a future version. Please adapt your code to use either `displot` (a figure-level function with similar flexibility) or `histplot` (an axes-level function for histograms).\n",
            "  warnings.warn(msg, FutureWarning)\n"
          ]
        },
        {
          "output_type": "execute_result",
          "data": {
            "text/plain": [
              "<matplotlib.axes._subplots.AxesSubplot at 0x7fe646175f90>"
            ]
          },
          "metadata": {},
          "execution_count": 23
        },
        {
          "output_type": "display_data",
          "data": {
            "image/png": "[encoded data removed]",
            "text/plain": [
              "<Figure size 432x288 with 1 Axes>"
            ]
          },
          "metadata": {
            "needs_background": "light"
          }
        }
      ]
    },
    {
      "cell_type": "code",
      "metadata": {
        "colab": {
          "base_uri": "https://localhost:8080/"
        },
        "id": "9EeciGvSKgu1",
        "outputId": "3e189e1a-d5ee-4c69-a11c-37e3b9f88225"
      },
      "source": [
        "#transpose\n",
        "arr1=np.transpose(arr)\n",
        "arr1"
      ],
      "execution_count": 25,
      "outputs": [
        {
          "output_type": "execute_result",
          "data": {
            "text/plain": [
              "array([[1, 2, 6],\n",
              "       [2, 3, 7],\n",
              "       [3, 4, 8],\n",
              "       [4, 5, 9],\n",
              "       [5, 6, 9]])"
            ]
          },
          "metadata": {},
          "execution_count": 25
        }
      ]
    },
    {
      "cell_type": "code",
      "metadata": {
        "colab": {
          "base_uri": "https://localhost:8080/"
        },
        "id": "J44poW1_K28X",
        "outputId": "1dadd223-f109-4225-9e5e-be8d7082a5c4"
      },
      "source": [
        "#flatten the array\n",
        "arr.ravel()"
      ],
      "execution_count": 26,
      "outputs": [
        {
          "output_type": "execute_result",
          "data": {
            "text/plain": [
              "array([1, 2, 3, 4, 5, 2, 3, 4, 5, 6, 6, 7, 8, 9, 9])"
            ]
          },
          "metadata": {},
          "execution_count": 26
        }
      ]
    },
    {
      "cell_type": "code",
      "metadata": {
        "colab": {
          "base_uri": "https://localhost:8080/"
        },
        "id": "sBT5YcUFLNKd",
        "outputId": "eea55a4f-c2f3-49b3-e008-00db1f850902"
      },
      "source": [
        "a=np.arange(5,50,5)\n",
        "b=np.arange(10,100,10)\n",
        "x=np.vstack((a,b)) #Stack arrays vertically (row-wise)\n",
        "print(x)\n",
        "y=np.column_stack((a,b)) #Create stacked column-wise arrays\n",
        "print(y)"
      ],
      "execution_count": 31,
      "outputs": [
        {
          "output_type": "stream",
          "name": "stdout",
          "text": [
            "[[ 5 10 15 20 25 30 35 40 45]\n",
            " [10 20 30 40 50 60 70 80 90]]\n",
            "[[ 5 10]\n",
            " [10 20]\n",
            " [15 30]\n",
            " [20 40]\n",
            " [25 50]\n",
            " [30 60]\n",
            " [35 70]\n",
            " [40 80]\n",
            " [45 90]]\n"
          ]
        }
      ]
    },
    {
      "cell_type": "code",
      "metadata": {
        "id": "W-URgnmSMWjr"
      },
      "source": [
        ""
      ],
      "execution_count": null,
      "outputs": []
    }
  ]
}